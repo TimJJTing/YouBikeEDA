{
 "cells": [
  {
   "cell_type": "markdown",
   "id": "899fb4ad-7c54-4821-88d4-12ada1a609c9",
   "metadata": {},
   "source": [
    "# Appendix"
   ]
  },
  {
   "cell_type": "markdown",
   "id": "c8b9ef75-dbe7-4d6a-b6a8-333e06246146",
   "metadata": {},
   "source": [
    "## Supplementary Datasets"
   ]
  },
  {
   "cell_type": "code",
   "execution_count": null,
   "id": "025e5dc6-69d7-4dbf-b9d5-93ccee15e49e",
   "metadata": {},
   "outputs": [],
   "source": [
    "# MRT stations, city/intercity bus stations, TRA stations, THSR stations"
   ]
  }
 ],
 "metadata": {
  "kernelspec": {
   "display_name": "Python 3 (ipykernel)",
   "language": "python",
   "name": "python3"
  },
  "language_info": {
   "codemirror_mode": {
    "name": "ipython",
    "version": 3
   },
   "file_extension": ".py",
   "mimetype": "text/x-python",
   "name": "python",
   "nbconvert_exporter": "python",
   "pygments_lexer": "ipython3",
   "version": "3.11.7"
  }
 },
 "nbformat": 4,
 "nbformat_minor": 5
}
